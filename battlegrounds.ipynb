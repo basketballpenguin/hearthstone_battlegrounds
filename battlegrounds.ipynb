{
 "cells": [
  {
   "cell_type": "code",
   "execution_count": 115,
   "metadata": {},
   "outputs": [],
   "source": [
    "# autobattler writing lets go"
   ]
  },
  {
   "cell_type": "code",
   "execution_count": 6,
   "metadata": {},
   "outputs": [],
   "source": [
    "# should start and make sure that we can write fucntions that make sense for doing 1v1 combats and go from there"
   ]
  },
  {
   "cell_type": "code",
   "execution_count": 7,
   "metadata": {},
   "outputs": [],
   "source": [
    "# lets define a minon by its attack and health all other effects lets ignore for these battles\n",
    "# as i will have to figure out how to do that\n",
    "# but we should still definitely use a dictionary for now and if I need to use a better data struct in the future I can\n",
    "# can define functions in the dictionary to point to i.e. for deathrattles it can be functions\n",
    "# i am uncertain how I want to handle growth on effect minions but thats a tier 2 problem :)"
   ]
  },
  {
   "cell_type": "code",
   "execution_count": 101,
   "metadata": {},
   "outputs": [],
   "source": [
    "# defining the one drops\n",
    "rockpool = {'attack':2, 'health':3, 'type': 'murloc'}\n",
    "wreaver = {'attack':1, 'health':1, 'type': 'neutral'}\n",
    "righteous = {'attack':1, 'health': 1, 'type': 'neutral', 'divine_shield': True}"
   ]
  },
  {
   "cell_type": "code",
   "execution_count": 63,
   "metadata": {},
   "outputs": [],
   "source": [
    "def attack(minionA, minionB):\n",
    "    minionBhealth = minionB['health'] - minionA['attack']\n",
    "    minionAhealth = minionA['health'] - minionB['attack']\n",
    "    if hasdivineshield(minionA) == False:\n",
    "        minionA['health'] = minionAhealth\n",
    "    else:\n",
    "        minonA['divine_shield'] = False\n",
    "    if hasdivineshield(minionB) == False:\n",
    "        minionB['health'] = minionBhealth\n",
    "    else:\n",
    "        minionB['divine_shield'] = False\n",
    "    return minionA, minionB"
   ]
  },
  {
   "cell_type": "code",
   "execution_count": 71,
   "metadata": {},
   "outputs": [],
   "source": [
    "rockpool, righteous = attack(rockpool,righteous)"
   ]
  },
  {
   "cell_type": "code",
   "execution_count": 46,
   "metadata": {},
   "outputs": [],
   "source": [
    "def isalive(minion):\n",
    "    return minion['health'] > 0"
   ]
  },
  {
   "cell_type": "code",
   "execution_count": 72,
   "metadata": {},
   "outputs": [
    {
     "data": {
      "text/plain": [
       "False"
      ]
     },
     "execution_count": 72,
     "metadata": {},
     "output_type": "execute_result"
    }
   ],
   "source": [
    "isalive(rockpool)"
   ]
  },
  {
   "cell_type": "code",
   "execution_count": 70,
   "metadata": {},
   "outputs": [
    {
     "data": {
      "text/plain": [
       "False"
      ]
     },
     "execution_count": 70,
     "metadata": {},
     "output_type": "execute_result"
    }
   ],
   "source": [
    "isalive(righteous)"
   ]
  },
  {
   "cell_type": "code",
   "execution_count": 69,
   "metadata": {},
   "outputs": [
    {
     "name": "stdout",
     "output_type": "stream",
     "text": [
      "{'attack': 2, 'health': 1, 'type': 'murloc'} {'attack': 1, 'health': -1, 'type': 'neutral', 'divine_shield': False}\n"
     ]
    }
   ],
   "source": [
    "print(rockpool, righteous)"
   ]
  },
  {
   "cell_type": "code",
   "execution_count": 60,
   "metadata": {},
   "outputs": [],
   "source": [
    "def hasdivineshield(minion):\n",
    "    if minion.get('divine_shield') is not None:\n",
    "        return minion.get('divine_shield')\n",
    "    return False"
   ]
  },
  {
   "cell_type": "code",
   "execution_count": 26,
   "metadata": {},
   "outputs": [
    {
     "ename": "AttributeError",
     "evalue": "'dict' object has no attribute 'has_key'",
     "output_type": "error",
     "traceback": [
      "\u001b[1;31m---------------------------------------------------------------------------\u001b[0m",
      "\u001b[1;31mAttributeError\u001b[0m                            Traceback (most recent call last)",
      "\u001b[1;32m<ipython-input-26-c92d5c56d76c>\u001b[0m in \u001b[0;36m<module>\u001b[1;34m\u001b[0m\n\u001b[1;32m----> 1\u001b[1;33m \u001b[0mhasdivineshield\u001b[0m\u001b[1;33m(\u001b[0m\u001b[0mwreaver\u001b[0m\u001b[1;33m)\u001b[0m\u001b[1;33m\u001b[0m\u001b[1;33m\u001b[0m\u001b[0m\n\u001b[0m",
      "\u001b[1;32m<ipython-input-25-49b3e79917d0>\u001b[0m in \u001b[0;36mhasdivineshield\u001b[1;34m(minion)\u001b[0m\n\u001b[0;32m      1\u001b[0m \u001b[1;32mdef\u001b[0m \u001b[0mhasdivineshield\u001b[0m\u001b[1;33m(\u001b[0m\u001b[0mminion\u001b[0m\u001b[1;33m)\u001b[0m\u001b[1;33m:\u001b[0m\u001b[1;33m\u001b[0m\u001b[1;33m\u001b[0m\u001b[0m\n\u001b[1;32m----> 2\u001b[1;33m     \u001b[1;32mreturn\u001b[0m \u001b[0mminion\u001b[0m\u001b[1;33m.\u001b[0m\u001b[0mhas_key\u001b[0m\u001b[1;33m(\u001b[0m\u001b[1;34m'divine_shield'\u001b[0m\u001b[1;33m)\u001b[0m\u001b[1;33m\u001b[0m\u001b[1;33m\u001b[0m\u001b[0m\n\u001b[0m",
      "\u001b[1;31mAttributeError\u001b[0m: 'dict' object has no attribute 'has_key'"
     ]
    }
   ],
   "source": [
    "hasdivineshield(wreaver)"
   ]
  },
  {
   "cell_type": "code",
   "execution_count": 76,
   "metadata": {},
   "outputs": [
    {
     "data": {
      "text/plain": [
       "False"
      ]
     },
     "execution_count": 76,
     "metadata": {},
     "output_type": "execute_result"
    }
   ],
   "source": [
    "hasdivineshield(righteous)"
   ]
  },
  {
   "cell_type": "code",
   "execution_count": 102,
   "metadata": {},
   "outputs": [],
   "source": [
    "warbandA = [rockpool, righteous]\n",
    "warbandB = [rockpool, wreaver]"
   ]
  },
  {
   "cell_type": "code",
   "execution_count": 93,
   "metadata": {},
   "outputs": [
    {
     "ename": "SyntaxError",
     "evalue": "unexpected EOF while parsing (<ipython-input-93-baf962d1a103>, line 23)",
     "output_type": "error",
     "traceback": [
      "\u001b[1;36m  File \u001b[1;32m\"<ipython-input-93-baf962d1a103>\"\u001b[1;36m, line \u001b[1;32m23\u001b[0m\n\u001b[1;33m    \u001b[0m\n\u001b[1;37m    ^\u001b[0m\n\u001b[1;31mSyntaxError\u001b[0m\u001b[1;31m:\u001b[0m unexpected EOF while parsing\n"
     ]
    }
   ],
   "source": [
    "def battle(warbandA, warbandB):\n",
    "    # could also do a number of attack keyword which might actually work better\n",
    "    # that way you just iterate until you find who has attacked and how many times\n",
    "    # this can still get screwed up by drattles maybe like lets say everyone has attacked twice and that minion just gets\n",
    "    # spawned then you can't just enter in the proper number like it seems better but not perfect\n",
    "    # will try the keyword idea first if it fails in 3 weeks we will try again :)\n",
    "    warbandA_index = 0\n",
    "    warbandB_index = 0\n",
    "    # check to see who goes first\n",
    "    # this whole go first thing I am coding feels wrong as it will make it harder to iterate \n",
    "    # which ultimately it needs to do\n",
    "    # i need something that I can recursively call until I am left with a winner\n",
    "    # the overall thing of this is that\n",
    "    first = whofirst(warbandA,warbandB)\n",
    "    if first == 0:\n",
    "        # warbandA attacks first\n",
    "        # grab the first minion from warbandA\n",
    "        warbandB_minion_index = np.random.randint(0,len(warbandB))\n",
    "        attack(warbandA[0],warbandB)\n",
    "        \n",
    "    else:\n",
    "        #warbandB attacks first\n",
    "        "
   ]
  },
  {
   "cell_type": "code",
   "execution_count": 95,
   "metadata": {},
   "outputs": [
    {
     "ename": "SyntaxError",
     "evalue": "unexpected EOF while parsing (<ipython-input-95-a41e7e299439>, line 3)",
     "output_type": "error",
     "traceback": [
      "\u001b[1;36m  File \u001b[1;32m\"<ipython-input-95-a41e7e299439>\"\u001b[1;36m, line \u001b[1;32m3\u001b[0m\n\u001b[1;33m    # fights the minion and resolves all necessary deathrattles afterwards\u001b[0m\n\u001b[1;37m                                                                          ^\u001b[0m\n\u001b[1;31mSyntaxError\u001b[0m\u001b[1;31m:\u001b[0m unexpected EOF while parsing\n"
     ]
    }
   ],
   "source": [
    "def battle(warbandA,warbandB):\n",
    "    # this function assumes warbandA is attacking first\n",
    "    # fights the minion and resolves all necessary deathrattles afterwards\n",
    "    warbandB_minion_index = np.random.randint(0,len(warbandB))\n",
    "    attack(warbandA[0],wabrandB[warband_minion_index])\n",
    "    \n",
    "    "
   ]
  },
  {
   "cell_type": "code",
   "execution_count": 89,
   "metadata": {},
   "outputs": [],
   "source": [
    "import numpy as np\n",
    "def whofirst(warbandA, warbandB):\n",
    "    # check lengths\n",
    "    if len(warbandA) > len(warbandB):\n",
    "        return 0\n",
    "    if len(warbandA) == len(warbandB):\n",
    "        return np.random.randint(0,2)\n",
    "    return 1"
   ]
  },
  {
   "cell_type": "code",
   "execution_count": 88,
   "metadata": {},
   "outputs": [
    {
     "data": {
      "text/plain": [
       "1"
      ]
     },
     "execution_count": 88,
     "metadata": {},
     "output_type": "execute_result"
    }
   ],
   "source": [
    "np.random.randint(0,2)"
   ]
  },
  {
   "cell_type": "code",
   "execution_count": 92,
   "metadata": {},
   "outputs": [
    {
     "data": {
      "text/plain": [
       "['a', 'b', 'd']"
      ]
     },
     "execution_count": 92,
     "metadata": {},
     "output_type": "execute_result"
    }
   ],
   "source": [
    "listA = ['a', 'b', 'c', 'd']\n",
    "listA.remove('c')\n",
    "listA"
   ]
  },
  {
   "cell_type": "code",
   "execution_count": 104,
   "metadata": {},
   "outputs": [
    {
     "data": {
      "text/plain": [
       "[{'attack': 2, 'health': 3, 'type': 'murloc'},\n",
       " {'attack': 1, 'health': 1, 'type': 'neutral'}]"
      ]
     },
     "execution_count": 104,
     "metadata": {},
     "output_type": "execute_result"
    }
   ],
   "source": [
    "warbandA\n",
    "warbandB"
   ]
  },
  {
   "cell_type": "code",
   "execution_count": 105,
   "metadata": {},
   "outputs": [
    {
     "data": {
      "text/plain": [
       "({'attack': 2, 'health': 1, 'type': 'murloc'},\n",
       " {'attack': 2, 'health': 1, 'type': 'murloc'})"
      ]
     },
     "execution_count": 105,
     "metadata": {},
     "output_type": "execute_result"
    }
   ],
   "source": [
    "attack(warbandA[0],warbandB[0])"
   ]
  },
  {
   "cell_type": "code",
   "execution_count": 107,
   "metadata": {},
   "outputs": [
    {
     "name": "stdout",
     "output_type": "stream",
     "text": [
      "[{'attack': 2, 'health': 1, 'type': 'murloc'}, {'attack': 1, 'health': 1, 'type': 'neutral', 'divine_shield': True}] [{'attack': 2, 'health': 1, 'type': 'murloc'}, {'attack': 1, 'health': 1, 'type': 'neutral'}]\n"
     ]
    }
   ],
   "source": [
    "print(warbandA, warbandB)"
   ]
  },
  {
   "cell_type": "code",
   "execution_count": 108,
   "metadata": {},
   "outputs": [
    {
     "data": {
      "text/plain": [
       "{'attack': 2, 'health': 1, 'type': 'murloc'}"
      ]
     },
     "execution_count": 108,
     "metadata": {},
     "output_type": "execute_result"
    }
   ],
   "source": [
    "rockpool"
   ]
  },
  {
   "cell_type": "code",
   "execution_count": 114,
   "metadata": {},
   "outputs": [
    {
     "ename": "TypeError",
     "evalue": "unsupported operand type(s) for +: 'NoneType' and 'int'",
     "output_type": "error",
     "traceback": [
      "\u001b[1;31m---------------------------------------------------------------------------\u001b[0m",
      "\u001b[1;31mTypeError\u001b[0m                                 Traceback (most recent call last)",
      "\u001b[1;32m<ipython-input-114-a4b294b4dd56>\u001b[0m in \u001b[0;36m<module>\u001b[1;34m\u001b[0m\n\u001b[1;32m----> 1\u001b[1;33m \u001b[0mrighteous\u001b[0m\u001b[1;33m.\u001b[0m\u001b[0mget\u001b[0m\u001b[1;33m(\u001b[0m\u001b[1;34m'no_of_attacks'\u001b[0m\u001b[1;33m)\u001b[0m\u001b[1;33m+\u001b[0m\u001b[1;36m1\u001b[0m\u001b[1;33m\u001b[0m\u001b[1;33m\u001b[0m\u001b[0m\n\u001b[0m",
      "\u001b[1;31mTypeError\u001b[0m: unsupported operand type(s) for +: 'NoneType' and 'int'"
     ]
    }
   ],
   "source": [
    "righteous.get('no_of_attacks')+1"
   ]
  },
  {
   "cell_type": "code",
   "execution_count": null,
   "metadata": {},
   "outputs": [],
   "source": []
  }
 ],
 "metadata": {
  "kernelspec": {
   "display_name": "Python 3",
   "language": "python",
   "name": "python3"
  },
  "language_info": {
   "codemirror_mode": {
    "name": "ipython",
    "version": 3
   },
   "file_extension": ".py",
   "mimetype": "text/x-python",
   "name": "python",
   "nbconvert_exporter": "python",
   "pygments_lexer": "ipython3",
   "version": "3.7.4"
  }
 },
 "nbformat": 4,
 "nbformat_minor": 2
}
