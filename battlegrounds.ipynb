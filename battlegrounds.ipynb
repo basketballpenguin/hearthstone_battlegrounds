{
 "cells": [
  {
   "cell_type": "code",
   "execution_count": 115,
   "metadata": {},
   "outputs": [],
   "source": [
    "# autobattler writing lets go"
   ]
  },
  {
   "cell_type": "code",
   "execution_count": 6,
   "metadata": {},
   "outputs": [],
   "source": [
    "# should start and make sure that we can write fucntions that make sense for doing 1v1 combats and go from there"
   ]
  },
  {
   "cell_type": "code",
   "execution_count": 137,
   "metadata": {},
   "outputs": [],
   "source": [
    "# lets define a minion by its attack and health all other effects lets ignore for these battles\n",
    "# as i will have to figure out how to do that\n",
    "# but we should still definitely use a dictionary for now and if I need to use a better data struct in the future I can\n",
    "# can define functions in the dictionary to point to i.e. for deathrattles it can be functions\n",
    "# i am uncertain how I want to handle growth on effect minions but thats a tier 2 problem :)"
   ]
  },
  {
   "cell_type": "code",
   "execution_count": 148,
   "metadata": {},
   "outputs": [],
   "source": [
    "# defining the one drops\n",
    "rockpool = {'attack':2, 'health':3, 'type': 'murloc', 'name': 'rockpool'}\n",
    "wreaver = {'attack':1, 'health':1, 'type': 'neutral', 'name': 'wreaver'}\n",
    "righteous = {'attack':1, 'health': 1, 'type': 'neutral', 'divine_shield': True, 'name': 'righteous'}"
   ]
  },
  {
   "cell_type": "code",
   "execution_count": 136,
   "metadata": {},
   "outputs": [],
   "source": [
    "def attack(minionA, minionB):\n",
    "    minionBhealth = minionB['health'] - minionA['attack']\n",
    "    minionAhealth = minionA['health'] - minionB['attack']\n",
    "    if hasdivineshield(minionA) == False:\n",
    "        minionA['health'] = minionAhealth\n",
    "    else:\n",
    "        minionA['divine_shield'] = False\n",
    "    if hasdivineshield(minionB) == False:\n",
    "        minionB['health'] = minionBhealth\n",
    "    else:\n",
    "        minionB['divine_shield'] = False\n",
    "    return minionA, minionB"
   ]
  },
  {
   "cell_type": "code",
   "execution_count": 71,
   "metadata": {},
   "outputs": [],
   "source": [
    "rockpool, righteous = attack(rockpool,righteous)"
   ]
  },
  {
   "cell_type": "code",
   "execution_count": 117,
   "metadata": {},
   "outputs": [],
   "source": [
    "def isalive(minion):\n",
    "    return minion['health'] > 0\n",
    "\n",
    "def isdead(minion):\n",
    "    return minion['health'] <= 0"
   ]
  },
  {
   "cell_type": "code",
   "execution_count": 72,
   "metadata": {},
   "outputs": [
    {
     "data": {
      "text/plain": [
       "False"
      ]
     },
     "execution_count": 72,
     "metadata": {},
     "output_type": "execute_result"
    }
   ],
   "source": [
    "isalive(rockpool)"
   ]
  },
  {
   "cell_type": "code",
   "execution_count": 70,
   "metadata": {},
   "outputs": [
    {
     "data": {
      "text/plain": [
       "False"
      ]
     },
     "execution_count": 70,
     "metadata": {},
     "output_type": "execute_result"
    }
   ],
   "source": [
    "isalive(righteous)"
   ]
  },
  {
   "cell_type": "code",
   "execution_count": 69,
   "metadata": {},
   "outputs": [
    {
     "name": "stdout",
     "output_type": "stream",
     "text": [
      "{'attack': 2, 'health': 1, 'type': 'murloc'} {'attack': 1, 'health': -1, 'type': 'neutral', 'divine_shield': False}\n"
     ]
    }
   ],
   "source": [
    "print(rockpool, righteous)"
   ]
  },
  {
   "cell_type": "code",
   "execution_count": 60,
   "metadata": {},
   "outputs": [],
   "source": [
    "def hasdivineshield(minion):\n",
    "    if minion.get('divine_shield') is not None:\n",
    "        return minion.get('divine_shield')\n",
    "    return False"
   ]
  },
  {
   "cell_type": "code",
   "execution_count": 26,
   "metadata": {},
   "outputs": [
    {
     "ename": "AttributeError",
     "evalue": "'dict' object has no attribute 'has_key'",
     "output_type": "error",
     "traceback": [
      "\u001b[1;31m---------------------------------------------------------------------------\u001b[0m",
      "\u001b[1;31mAttributeError\u001b[0m                            Traceback (most recent call last)",
      "\u001b[1;32m<ipython-input-26-c92d5c56d76c>\u001b[0m in \u001b[0;36m<module>\u001b[1;34m\u001b[0m\n\u001b[1;32m----> 1\u001b[1;33m \u001b[0mhasdivineshield\u001b[0m\u001b[1;33m(\u001b[0m\u001b[0mwreaver\u001b[0m\u001b[1;33m)\u001b[0m\u001b[1;33m\u001b[0m\u001b[1;33m\u001b[0m\u001b[0m\n\u001b[0m",
      "\u001b[1;32m<ipython-input-25-49b3e79917d0>\u001b[0m in \u001b[0;36mhasdivineshield\u001b[1;34m(minion)\u001b[0m\n\u001b[0;32m      1\u001b[0m \u001b[1;32mdef\u001b[0m \u001b[0mhasdivineshield\u001b[0m\u001b[1;33m(\u001b[0m\u001b[0mminion\u001b[0m\u001b[1;33m)\u001b[0m\u001b[1;33m:\u001b[0m\u001b[1;33m\u001b[0m\u001b[1;33m\u001b[0m\u001b[0m\n\u001b[1;32m----> 2\u001b[1;33m     \u001b[1;32mreturn\u001b[0m \u001b[0mminion\u001b[0m\u001b[1;33m.\u001b[0m\u001b[0mhas_key\u001b[0m\u001b[1;33m(\u001b[0m\u001b[1;34m'divine_shield'\u001b[0m\u001b[1;33m)\u001b[0m\u001b[1;33m\u001b[0m\u001b[1;33m\u001b[0m\u001b[0m\n\u001b[0m",
      "\u001b[1;31mAttributeError\u001b[0m: 'dict' object has no attribute 'has_key'"
     ]
    }
   ],
   "source": [
    "hasdivineshield(wreaver)"
   ]
  },
  {
   "cell_type": "code",
   "execution_count": 76,
   "metadata": {},
   "outputs": [
    {
     "data": {
      "text/plain": [
       "False"
      ]
     },
     "execution_count": 76,
     "metadata": {},
     "output_type": "execute_result"
    }
   ],
   "source": [
    "hasdivineshield(righteous)"
   ]
  },
  {
   "cell_type": "code",
   "execution_count": 141,
   "metadata": {},
   "outputs": [],
   "source": []
  },
  {
   "cell_type": "code",
   "execution_count": 125,
   "metadata": {},
   "outputs": [
    {
     "data": {
      "text/plain": [
       "\"\\ndef battle(warbandA, warbandB):\\n    # could also do a number of attack keyword which might actually work better\\n    # that way you just iterate until you find who has attacked and how many times\\n    # this can still get screwed up by drattles maybe like lets say everyone has attacked twice and that minion just gets\\n    # spawned then you can't just enter in the proper number like it seems better but not perfect\\n    # will try the keyword idea first if it fails in 3 weeks we will try again :)\\n    warbandA_index = 0\\n    warbandB_index = 0\\n    # check to see who goes first\\n    # this whole go first thing I am coding feels wrong as it will make it harder to iterate \\n    # which ultimately it needs to do\\n    # i need something that I can recursively call until I am left with a winner\\n    # the overall thing of this is that\\n    first = whofirst(warbandA,warbandB)\\n    if first == 0:\\n        # warbandA attacks first\\n        # grab the first minion from warbandA\\n        warbandB_minion_index = np.random.randint(0,len(warbandB))\\n        attack(warbandA[0],warbandB)\\n        \\n    else:\\n        #warbandB attacks first\\n\""
      ]
     },
     "execution_count": 125,
     "metadata": {},
     "output_type": "execute_result"
    }
   ],
   "source": [
    "'''\n",
    "def battle(warbandA, warbandB):\n",
    "    # could also do a number of attack keyword which might actually work better\n",
    "    # that way you just iterate until you find who has attacked and how many times\n",
    "    # this can still get screwed up by drattles maybe like lets say everyone has attacked twice and that minion just gets\n",
    "    # spawned then you can't just enter in the proper number like it seems better but not perfect\n",
    "    # will try the keyword idea first if it fails in 3 weeks we will try again :)\n",
    "    warbandA_index = 0\n",
    "    warbandB_index = 0\n",
    "    # check to see who goes first\n",
    "    # this whole go first thing I am coding feels wrong as it will make it harder to iterate \n",
    "    # which ultimately it needs to do\n",
    "    # i need something that I can recursively call until I am left with a winner\n",
    "    # the overall thing of this is that\n",
    "    first = whofirst(warbandA,warbandB)\n",
    "    if first == 0:\n",
    "        # warbandA attacks first\n",
    "        # grab the first minion from warbandA\n",
    "        warbandB_minion_index = np.random.randint(0,len(warbandB))\n",
    "        attack(warbandA[0],warbandB)\n",
    "        \n",
    "    else:\n",
    "        #warbandB attacks first\n",
    "'''\n",
    "# replaced for now\n"
   ]
  },
  {
   "cell_type": "code",
   "execution_count": 249,
   "metadata": {},
   "outputs": [],
   "source": [
    "def battle(warbandA,warbandB):\n",
    "    print(warbandA,warbandB)\n",
    "    # this function assumes warbandA is attacking first\n",
    "    # need to generalize some more self\n",
    "    # fights the minion \n",
    "    # TODO resolve all necessary deathrattles afterwards\n",
    "    # need a minion that attacks function \n",
    "    # need a minion to attack function\n",
    "    \n",
    "    # is there any minions to fight\n",
    "    if len(warbandA) == 0:\n",
    "        return warbandB\n",
    "    if len(warbandB) == 0:\n",
    "        return warbandA\n",
    "    # find the minion in warbandA who is next to attack\n",
    "    \n",
    "    # find the minion to fight\n",
    "    taunted_minion_index = haskeyword(warbandB,keyword='taunt')\n",
    "    if len(taunted_minion_index) == 0:\n",
    "        taunted_minion_index = np.arange(len(warbandB))\n",
    "    warbandB_minion_index = np.random.randint(0,len(taunted_minion_index))\n",
    "    attack(warbandA[0],warbandB[warbandB_minion_index])\n",
    "    if isdead(warbandA[0]):\n",
    "        warbandA.pop(0)\n",
    "    if isdead(warbandB[warbandB_minion_index]):\n",
    "        warbandB.pop(warbandB_minion_index)\n",
    "    print(warbandA,warbandB)\n",
    "    return battle(warbandB,warbandA) # warbandB now attacks first"
   ]
  },
  {
   "cell_type": "code",
   "execution_count": 254,
   "metadata": {},
   "outputs": [],
   "source": [
    "import numpy as np\n",
    "def whofirst(warbandA, warbandB):\n",
    "    # check lengths\n",
    "    if len(warbandA) > len(warbandB):\n",
    "        return 0\n",
    "    if len(warbandA) == len(warbandB):\n",
    "        return np.random.randint(0,2)\n",
    "    return 1"
   ]
  },
  {
   "cell_type": "code",
   "execution_count": 253,
   "metadata": {},
   "outputs": [
    {
     "name": "stdout",
     "output_type": "stream",
     "text": [
      "[{'attack': 2, 'health': 3, 'type': 'murloc', 'name': 'rockpool'}, {'attack': 1, 'health': 1, 'type': 'neutral', 'divine_shield': True, 'taunt': True, 'name': 'righteous'}] [{'attack': 2, 'health': 3, 'type': 'murloc', 'name': 'rockpool'}, {'attack': 1, 'health': 1, 'type': 'neutral', 'name': 'wreaver'}]\n",
      "[{'attack': 2, 'health': 2, 'type': 'murloc', 'name': 'rockpool'}, {'attack': 1, 'health': 1, 'type': 'neutral', 'divine_shield': True, 'taunt': True, 'name': 'righteous'}] [{'attack': 2, 'health': 3, 'type': 'murloc', 'name': 'rockpool'}]\n",
      "[{'attack': 2, 'health': 3, 'type': 'murloc', 'name': 'rockpool'}] [{'attack': 2, 'health': 2, 'type': 'murloc', 'name': 'rockpool'}, {'attack': 1, 'health': 1, 'type': 'neutral', 'divine_shield': True, 'taunt': True, 'name': 'righteous'}]\n",
      "[{'attack': 2, 'health': 1, 'type': 'murloc', 'name': 'rockpool'}] [{'attack': 1, 'health': 1, 'type': 'neutral', 'divine_shield': True, 'taunt': True, 'name': 'righteous'}]\n",
      "[{'attack': 1, 'health': 1, 'type': 'neutral', 'divine_shield': True, 'taunt': True, 'name': 'righteous'}] [{'attack': 2, 'health': 1, 'type': 'murloc', 'name': 'rockpool'}]\n",
      "[{'attack': 1, 'health': 1, 'type': 'neutral', 'divine_shield': False, 'taunt': True, 'name': 'righteous'}] []\n",
      "[] [{'attack': 1, 'health': 1, 'type': 'neutral', 'divine_shield': False, 'taunt': True, 'name': 'righteous'}]\n"
     ]
    },
    {
     "data": {
      "text/plain": [
       "[{'attack': 1,\n",
       "  'health': 1,\n",
       "  'type': 'neutral',\n",
       "  'divine_shield': False,\n",
       "  'taunt': True,\n",
       "  'name': 'righteous'}]"
      ]
     },
     "execution_count": 253,
     "metadata": {},
     "output_type": "execute_result"
    }
   ],
   "source": [
    "battle(warbandC,warbandD)"
   ]
  },
  {
   "cell_type": "code",
   "execution_count": 212,
   "metadata": {},
   "outputs": [
    {
     "data": {
      "text/plain": [
       "False"
      ]
     },
     "execution_count": 212,
     "metadata": {},
     "output_type": "execute_result"
    }
   ],
   "source": [
    "isdead(warbandC[0])"
   ]
  },
  {
   "cell_type": "code",
   "execution_count": 255,
   "metadata": {},
   "outputs": [
    {
     "name": "stdout",
     "output_type": "stream",
     "text": [
      "[{'attack': 2, 'health': 3, 'type': 'murloc', 'name': 'rockpool'}, {'attack': 1, 'health': 1, 'type': 'neutral', 'divine_shield': True, 'taunt': True, 'name': 'righteous'}] [{'attack': 2, 'health': 3, 'type': 'murloc', 'name': 'rockpool'}, {'attack': 1, 'health': 1, 'type': 'neutral', 'name': 'wreaver'}]\n"
     ]
    }
   ],
   "source": [
    "rockpool1 = {'attack':2, 'health':3, 'type': 'murloc', 'name': 'rockpool'}\n",
    "wreaver = {'attack':1, 'health':1, 'type': 'neutral', 'name': 'wreaver'}\n",
    "righteous = {'attack':1, 'health': 1, 'type': 'neutral', 'divine_shield': True, 'taunt':True, 'name': 'righteous'}\n",
    "rockpool2 = {'attack':2, 'health':3, 'type': 'murloc', 'name': 'rockpool'}\n",
    "warbandC = [rockpool1, righteous]\n",
    "warbandD = [rockpool2, wreaver]\n",
    "print(warbandC, warbandD)"
   ]
  },
  {
   "cell_type": "code",
   "execution_count": 155,
   "metadata": {},
   "outputs": [
    {
     "data": {
      "text/plain": [
       "[]"
      ]
     },
     "execution_count": 155,
     "metadata": {},
     "output_type": "execute_result"
    }
   ],
   "source": [
    "warbandD"
   ]
  },
  {
   "cell_type": "code",
   "execution_count": 107,
   "metadata": {},
   "outputs": [
    {
     "name": "stdout",
     "output_type": "stream",
     "text": [
      "[{'attack': 2, 'health': 1, 'type': 'murloc'}, {'attack': 1, 'health': 1, 'type': 'neutral', 'divine_shield': True}] [{'attack': 2, 'health': 1, 'type': 'murloc'}, {'attack': 1, 'health': 1, 'type': 'neutral'}]\n"
     ]
    }
   ],
   "source": [
    "print(warbandA, warbandB)"
   ]
  },
  {
   "cell_type": "code",
   "execution_count": 108,
   "metadata": {},
   "outputs": [
    {
     "data": {
      "text/plain": [
       "{'attack': 2, 'health': 1, 'type': 'murloc'}"
      ]
     },
     "execution_count": 108,
     "metadata": {},
     "output_type": "execute_result"
    }
   ],
   "source": [
    "rockpool"
   ]
  },
  {
   "cell_type": "code",
   "execution_count": 114,
   "metadata": {},
   "outputs": [
    {
     "ename": "TypeError",
     "evalue": "unsupported operand type(s) for +: 'NoneType' and 'int'",
     "output_type": "error",
     "traceback": [
      "\u001b[1;31m---------------------------------------------------------------------------\u001b[0m",
      "\u001b[1;31mTypeError\u001b[0m                                 Traceback (most recent call last)",
      "\u001b[1;32m<ipython-input-114-a4b294b4dd56>\u001b[0m in \u001b[0;36m<module>\u001b[1;34m\u001b[0m\n\u001b[1;32m----> 1\u001b[1;33m \u001b[0mrighteous\u001b[0m\u001b[1;33m.\u001b[0m\u001b[0mget\u001b[0m\u001b[1;33m(\u001b[0m\u001b[1;34m'no_of_attacks'\u001b[0m\u001b[1;33m)\u001b[0m\u001b[1;33m+\u001b[0m\u001b[1;36m1\u001b[0m\u001b[1;33m\u001b[0m\u001b[1;33m\u001b[0m\u001b[0m\n\u001b[0m",
      "\u001b[1;31mTypeError\u001b[0m: unsupported operand type(s) for +: 'NoneType' and 'int'"
     ]
    }
   ],
   "source": [
    "righteous.get('no_of_attacks')+1"
   ]
  },
  {
   "cell_type": "code",
   "execution_count": 220,
   "metadata": {},
   "outputs": [],
   "source": [
    "def hastaunt(minion):\n",
    "    return minion.get('taunt')"
   ]
  },
  {
   "cell_type": "code",
   "execution_count": 221,
   "metadata": {},
   "outputs": [
    {
     "data": {
      "text/plain": [
       "array([2, 4, 3, 4, 4, 3, 2])"
      ]
     },
     "execution_count": 221,
     "metadata": {},
     "output_type": "execute_result"
    }
   ],
   "source": [
    "# how to deal with taunt\n",
    "# need to figure out which minions have taunt and return their indices I guess is the best way to do this\n",
    "\n",
    "def miniontoattack(warband):\n",
    "'''\n",
    "input:warband in which minion is attacking\n",
    "output: index of which minion in the warband to attack\n",
    "'''    \n",
    "    has_taunt[]\n",
    "    "
   ]
  },
  {
   "cell_type": "code",
   "execution_count": 243,
   "metadata": {},
   "outputs": [],
   "source": [
    "def haskeyword(warband,keyword='taunt'):\n",
    "    minions_with_keyword = []\n",
    "    for count, minion in enumerate(warband):\n",
    "        if minion.get(keyword):\n",
    "            minions_with_keyword.append(count)\n",
    "    return minions_with_keyword"
   ]
  },
  {
   "cell_type": "code",
   "execution_count": 239,
   "metadata": {},
   "outputs": [
    {
     "data": {
      "text/plain": [
       "[{'attack': 2, 'health': 3, 'type': 'murloc', 'name': 'rockpool'},\n",
       " {'attack': 1,\n",
       "  'health': 1,\n",
       "  'type': 'neutral',\n",
       "  'divine_shield': True,\n",
       "  'name': 'righteous'}]"
      ]
     },
     "execution_count": 239,
     "metadata": {},
     "output_type": "execute_result"
    }
   ],
   "source": [
    "warbandC"
   ]
  },
  {
   "cell_type": "code",
   "execution_count": 242,
   "metadata": {},
   "outputs": [
    {
     "data": {
      "text/plain": [
       "[]"
      ]
     },
     "execution_count": 242,
     "metadata": {},
     "output_type": "execute_result"
    }
   ],
   "source": [
    "haskeyword(warbandC,'taunt')"
   ]
  },
  {
   "cell_type": "code",
   "execution_count": 228,
   "metadata": {},
   "outputs": [
    {
     "data": {
      "text/plain": [
       "<enumerate at 0x1c58359f908>"
      ]
     },
     "execution_count": 228,
     "metadata": {},
     "output_type": "execute_result"
    }
   ],
   "source": [
    "enumerate(warbandC)"
   ]
  },
  {
   "cell_type": "code",
   "execution_count": 241,
   "metadata": {},
   "outputs": [
    {
     "name": "stdout",
     "output_type": "stream",
     "text": [
      "{'attack': 2, 'health': 3, 'type': 'murloc', 'name': 'rockpool'}\n",
      "{'attack': 1, 'health': 1, 'type': 'neutral', 'divine_shield': True, 'name': 'righteous'}\n"
     ]
    }
   ],
   "source": [
    "for count,minion in enumerate(warbandC):\n",
    "    print(minion)"
   ]
  },
  {
   "cell_type": "code",
   "execution_count": 244,
   "metadata": {},
   "outputs": [],
   "source": [
    "taunted_minion_index = []"
   ]
  },
  {
   "cell_type": "code",
   "execution_count": 245,
   "metadata": {},
   "outputs": [
    {
     "data": {
      "text/plain": [
       "0"
      ]
     },
     "execution_count": 245,
     "metadata": {},
     "output_type": "execute_result"
    }
   ],
   "source": [
    "len(taunted_minion_index)"
   ]
  },
  {
   "cell_type": "code",
   "execution_count": 248,
   "metadata": {},
   "outputs": [
    {
     "data": {
      "text/plain": [
       "array([0, 1, 2, 3, 4, 5, 6])"
      ]
     },
     "execution_count": 248,
     "metadata": {},
     "output_type": "execute_result"
    }
   ],
   "source": [
    "np.arange(7)"
   ]
  },
  {
   "cell_type": "code",
   "execution_count": null,
   "metadata": {},
   "outputs": [],
   "source": []
  }
 ],
 "metadata": {
  "kernelspec": {
   "display_name": "Python 3",
   "language": "python",
   "name": "python3"
  },
  "language_info": {
   "codemirror_mode": {
    "name": "ipython",
    "version": 3
   },
   "file_extension": ".py",
   "mimetype": "text/x-python",
   "name": "python",
   "nbconvert_exporter": "python",
   "pygments_lexer": "ipython3",
   "version": "3.7.4"
  }
 },
 "nbformat": 4,
 "nbformat_minor": 2
}
